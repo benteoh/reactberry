{
 "cells": [
  {
   "cell_type": "markdown",
   "id": "3952cf09",
   "metadata": {},
   "source": [
    "In this journal, we aim to train a functioning audio sentiment model. This model would be utilised in an analyser, which can be represented as:\n",
    "\n",
    "Audio Object -------> Sentiment Analyser ------> Sentiment Object\n",
    "\n",
    "The file names for each audio file describes various details about the short audio clip that comes with it, including the emotion. We will use emotion attached to train the model."
   ]
  },
  {
   "cell_type": "code",
   "execution_count": 17,
   "id": "25d44466",
   "metadata": {},
   "outputs": [
    {
     "name": "stderr",
     "output_type": "stream",
     "text": [
      "2023-10-01 23:50:02.619331: I tensorflow/tsl/cuda/cudart_stub.cc:28] Could not find cuda drivers on your machine, GPU will not be used.\n",
      "2023-10-01 23:50:02.721967: E tensorflow/compiler/xla/stream_executor/cuda/cuda_dnn.cc:9342] Unable to register cuDNN factory: Attempting to register factory for plugin cuDNN when one has already been registered\n",
      "2023-10-01 23:50:02.722050: E tensorflow/compiler/xla/stream_executor/cuda/cuda_fft.cc:609] Unable to register cuFFT factory: Attempting to register factory for plugin cuFFT when one has already been registered\n",
      "2023-10-01 23:50:02.722228: E tensorflow/compiler/xla/stream_executor/cuda/cuda_blas.cc:1518] Unable to register cuBLAS factory: Attempting to register factory for plugin cuBLAS when one has already been registered\n",
      "2023-10-01 23:50:02.759601: I tensorflow/tsl/cuda/cudart_stub.cc:28] Could not find cuda drivers on your machine, GPU will not be used.\n",
      "2023-10-01 23:50:02.760809: I tensorflow/core/platform/cpu_feature_guard.cc:182] This TensorFlow binary is optimized to use available CPU instructions in performance-critical operations.\n",
      "To enable the following instructions: AVX2 FMA, in other operations, rebuild TensorFlow with the appropriate compiler flags.\n",
      "2023-10-01 23:50:04.194058: W tensorflow/compiler/tf2tensorrt/utils/py_utils.cc:38] TF-TRT Warning: Could not find TensorRT\n"
     ]
    },
    {
     "ename": "ImportError",
     "evalue": "cannot import name 'np_utils' from 'keras.utils' (/home/benben1752002/anaconda3/lib/python3.11/site-packages/keras/utils/__init__.py)",
     "output_type": "error",
     "traceback": [
      "\u001b[0;31m---------------------------------------------------------------------------\u001b[0m",
      "\u001b[0;31mImportError\u001b[0m                               Traceback (most recent call last)",
      "Cell \u001b[0;32mIn[17], line 13\u001b[0m\n\u001b[1;32m     11\u001b[0m \u001b[38;5;28;01mfrom\u001b[39;00m \u001b[38;5;21;01mkeras\u001b[39;00m\u001b[38;5;21;01m.\u001b[39;00m\u001b[38;5;21;01mmodels\u001b[39;00m \u001b[38;5;28;01mimport\u001b[39;00m Sequential, Model\n\u001b[1;32m     12\u001b[0m \u001b[38;5;28;01mfrom\u001b[39;00m \u001b[38;5;21;01mkeras\u001b[39;00m\u001b[38;5;21;01m.\u001b[39;00m\u001b[38;5;21;01mlayers\u001b[39;00m \u001b[38;5;28;01mimport\u001b[39;00m Dense, Embedding, Conv1D, MaxPooling1D, AveragePooling1D, BatchNormalization, Input, Flatten, Dropout, Activation\n\u001b[0;32m---> 13\u001b[0m \u001b[38;5;28;01mfrom\u001b[39;00m \u001b[38;5;21;01mkeras\u001b[39;00m\u001b[38;5;21;01m.\u001b[39;00m\u001b[38;5;21;01mutils\u001b[39;00m \u001b[38;5;28;01mimport\u001b[39;00m to_categorical, np_utils\n",
      "\u001b[0;31mImportError\u001b[0m: cannot import name 'np_utils' from 'keras.utils' (/home/benben1752002/anaconda3/lib/python3.11/site-packages/keras/utils/__init__.py)"
     ]
    }
   ],
   "source": [
    "import os\n",
    "from fetch_emotion import get_emotion\n",
    "import pandas as pd\n",
    "import numpy as np\n",
    "import librosa\n",
    "import resampy\n",
    "from sklearn.model_selection import train_test_split\n",
    "from sklearn.preprocessing import LabelEncoder\n",
    "import tensorflow as tf\n",
    "import keras\n",
    "from keras.models import Sequential, Model\n",
    "from keras.layers import Dense, Embedding, Conv1D, MaxPooling1D, AveragePooling1D, BatchNormalization, Input, Flatten, Dropout, Activation\n",
    "from keras.utils import to_categorical, np_utils"
   ]
  },
  {
   "cell_type": "code",
   "execution_count": 4,
   "id": "9f4706d9",
   "metadata": {},
   "outputs": [],
   "source": [
    "path = '../audiofiles'"
   ]
  },
  {
   "cell_type": "markdown",
   "id": "28b5a5d9",
   "metadata": {},
   "source": [
    "Here, we want to have all the files available for training."
   ]
  },
  {
   "cell_type": "code",
   "execution_count": 7,
   "id": "d5850799",
   "metadata": {},
   "outputs": [],
   "source": [
    "file_names = []\n",
    "for path, _, files in os.walk(path):\n",
    "    for name in files:\n",
    "        if name[-3:] == 'wav':\n",
    "            file_names.append(os.path.join(path, name))"
   ]
  },
  {
   "cell_type": "markdown",
   "id": "33e5721a",
   "metadata": {},
   "source": [
    "Audio features have to be extracted from each audio sample into a data frame."
   ]
  },
  {
   "cell_type": "code",
   "execution_count": 10,
   "id": "393b6d23",
   "metadata": {},
   "outputs": [],
   "source": [
    "df = pd.DataFrame(columns=['feature', 'emotion'])\n",
    "\n",
    "for i, name in enumerate(file_names):\n",
    "    X, sample_rate = librosa.load(name, res_type='kaiser_fast', duration=3, sr=22050*2, offset=0.5)\n",
    "    sample_rate = np.array(sample_rate)\n",
    "    # Get features of audio sample\n",
    "    mfccs = np.mean(librosa.feature.mfcc(y=X, sr=sample_rate, n_mfcc=13), axis=0)\n",
    "    df.loc[i] = [mfccs, get_emotion(name)]"
   ]
  },
  {
   "cell_type": "markdown",
   "id": "545d4df9",
   "metadata": {},
   "source": [
    "Preprocess into suitable format."
   ]
  },
  {
   "cell_type": "code",
   "execution_count": 15,
   "id": "df994891",
   "metadata": {},
   "outputs": [],
   "source": [
    "feature_df = pd.DataFrame(df['feature'].values.tolist())\n",
    "labelled_df = pd.concat([feature_df, df['emotion']], axis=1)\n",
    "labelled_df = labelled_df.dropna()\n",
    "shuffled_df = labelled_df.sample(frac=1).reset_index(drop=True)\n",
    "shuffled_df = shuffled_df.loc[~shuffled_df['emotion'].isin(['neutral', 'disgusted', 'surprised'])]"
   ]
  },
  {
   "cell_type": "code",
   "execution_count": 18,
   "id": "891f4048",
   "metadata": {},
   "outputs": [],
   "source": [
    "X_train, X_test, y_train, y_test = train_test_split(shuffled_df.drop('emotion', axis =1), shuffled_df['emotion'], test_size=0.2, random_state=0, shuffle = True)"
   ]
  },
  {
   "cell_type": "markdown",
   "id": "656e9a1f",
   "metadata": {},
   "source": [
    "Now, we want to encode the labels for the training and test data locally."
   ]
  },
  {
   "cell_type": "code",
   "execution_count": 21,
   "id": "9e026df9",
   "metadata": {},
   "outputs": [
    {
     "ename": "NameError",
     "evalue": "name 'np_utils' is not defined",
     "output_type": "error",
     "traceback": [
      "\u001b[0;31m---------------------------------------------------------------------------\u001b[0m",
      "\u001b[0;31mNameError\u001b[0m                                 Traceback (most recent call last)",
      "Cell \u001b[0;32mIn[21], line 2\u001b[0m\n\u001b[1;32m      1\u001b[0m encoder \u001b[38;5;241m=\u001b[39m LabelEncoder()\n\u001b[0;32m----> 2\u001b[0m y_train \u001b[38;5;241m=\u001b[39m np_utils\u001b[38;5;241m.\u001b[39mto_categorical(encoder\u001b[38;5;241m.\u001b[39mfit_transform(y_train))\n\u001b[1;32m      3\u001b[0m y_test \u001b[38;5;241m=\u001b[39m np_utils\u001b[38;5;241m.\u001b[39mto_categorical(encoder\u001b[38;5;241m.\u001b[39mfit_transform(y_test))\n\u001b[1;32m      4\u001b[0m np\u001b[38;5;241m.\u001b[39msave(\u001b[38;5;124m'\u001b[39m\u001b[38;5;124mlabel_classes.npy\u001b[39m\u001b[38;5;124m'\u001b[39m, encoder\u001b[38;5;241m.\u001b[39mclasses_)\n",
      "\u001b[0;31mNameError\u001b[0m: name 'np_utils' is not defined"
     ]
    }
   ],
   "source": [
    "encoder = LabelEncoder()\n",
    "y_train = np_utils.to_categorical(encoder.fit_transform(y_train))\n",
    "y_test = np_utils.to_categorical(encoder.fit_transform(y_test))\n",
    "np.save('label_classes.npy', encoder.classes_)"
   ]
  }
 ],
 "metadata": {
  "kernelspec": {
   "display_name": "Python 3 (ipykernel)",
   "language": "python",
   "name": "python3"
  },
  "language_info": {
   "codemirror_mode": {
    "name": "ipython",
    "version": 3
   },
   "file_extension": ".py",
   "mimetype": "text/x-python",
   "name": "python",
   "nbconvert_exporter": "python",
   "pygments_lexer": "ipython3",
   "version": "3.11.5"
  }
 },
 "nbformat": 4,
 "nbformat_minor": 5
}
